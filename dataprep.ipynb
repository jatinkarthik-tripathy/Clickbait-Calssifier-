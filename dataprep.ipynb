{
 "metadata": {
  "language_info": {
   "codemirror_mode": {
    "name": "ipython",
    "version": 3
   },
   "file_extension": ".py",
   "mimetype": "text/x-python",
   "name": "python",
   "nbconvert_exporter": "python",
   "pygments_lexer": "ipython3",
   "version": "3.7.8-final"
  },
  "orig_nbformat": 2,
  "kernelspec": {
   "name": "Python 3.7.8 64-bit",
   "display_name": "Python 3.7.8 64-bit",
   "metadata": {
    "interpreter": {
     "hash": "0600588c3b5f4418cbe7b5ebc6825b479f3bc010269d8b60d75058cdd010adfe"
    }
   }
  }
 },
 "nbformat": 4,
 "nbformat_minor": 2,
 "cells": [
  {
   "cell_type": "code",
   "execution_count": 1,
   "metadata": {},
   "outputs": [],
   "source": [
    "import pandas as pd"
   ]
  },
  {
   "cell_type": "code",
   "execution_count": 16,
   "metadata": {},
   "outputs": [
    {
     "output_type": "stream",
     "name": "stdout",
     "text": [
      "                                                text  label\n0                                 Should I Get Bings      1\n1      Which TV Female Friend Group Do You Belong In      1\n2  The New \"Star Wars: The Force Awakens\" Trailer...      1\n3  This Vine Of New York On \"Celebrity Big Brothe...      1\n4  A Couple Did A Stunning Photo Shoot With Their...      1\n"
     ]
    }
   ],
   "source": [
    "clkbt = pd.read_fwf('dataset\\clickbait_data\\clickbait_data.txt', header=None)\n",
    "clkbt_df = pd.DataFrame({\n",
    "    'text' : clkbt[0],\n",
    "    'label': [int(1)]*len(clkbt[0])\n",
    "})\n",
    "print(clkbt_df.head())"
   ]
  },
  {
   "cell_type": "code",
   "execution_count": 30,
   "metadata": {},
   "outputs": [
    {
     "output_type": "stream",
     "name": "stdout",
     "text": [
      "                                                text  label\n0  Bill Changing Credit Card Rules Is Sent to Oba...      0\n1  In Hollywood, the Easy-Money Generation Toughe...      0\n2  1700 runners still unaccounted for in UK's Lak...      0\n3  Yankees Pitchers Trade Fielding Drills for Put...      0\n4  Large earthquake rattles Indonesia; Seventh in...      0\n"
     ]
    }
   ],
   "source": [
    "with open('dataset/non_clickbait_data/non_clickbait_data.txt', encoding='utf-8') as f:\n",
    "    nclkbt = []\n",
    "    for line in f:\n",
    "        if line.rstrip() == '':\n",
    "            continue\n",
    "        else:\n",
    "            nclkbt.append(line.rstrip())\n",
    "nclkbt_df = pd.DataFrame({\n",
    "    'text' : nclkbt,\n",
    "    'label': [int(0)]*len(nclkbt)\n",
    "})\n",
    "print(nclkbt_df.head())"
   ]
  },
  {
   "cell_type": "code",
   "execution_count": 32,
   "metadata": {},
   "outputs": [
    {
     "output_type": "stream",
     "name": "stdout",
     "text": [
      "(15999, 2)\n(16001, 2)\n(32000, 2)\n"
     ]
    }
   ],
   "source": [
    "df = pd.concat([clkbt_df, nclkbt_df], axis=0)\n",
    "\n",
    "print(clkbt_df.shape)\n",
    "print(nclkbt_df.shape)\n",
    "print(df.shape)"
   ]
  },
  {
   "cell_type": "code",
   "execution_count": null,
   "metadata": {},
   "outputs": [],
   "source": []
  }
 ]
}