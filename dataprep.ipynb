{
 "metadata": {
  "language_info": {
   "codemirror_mode": {
    "name": "ipython",
    "version": 3
   },
   "file_extension": ".py",
   "mimetype": "text/x-python",
   "name": "python",
   "nbconvert_exporter": "python",
   "pygments_lexer": "ipython3",
   "version": "3.7.8-final"
  },
  "orig_nbformat": 2,
  "kernelspec": {
   "name": "Python 3.7.8 64-bit",
   "display_name": "Python 3.7.8 64-bit",
   "metadata": {
    "interpreter": {
     "hash": "0600588c3b5f4418cbe7b5ebc6825b479f3bc010269d8b60d75058cdd010adfe"
    }
   }
  }
 },
 "nbformat": 4,
 "nbformat_minor": 2,
 "cells": [
  {
   "cell_type": "code",
   "execution_count": 1,
   "metadata": {},
   "outputs": [],
   "source": [
    "import pandas as pd"
   ]
  },
  {
   "cell_type": "code",
   "execution_count": 16,
   "metadata": {},
   "outputs": [
    {
     "output_type": "stream",
     "name": "stdout",
     "text": [
      "                                                text  label\n0                                 Should I Get Bings      1\n1      Which TV Female Friend Group Do You Belong In      1\n2  The New \"Star Wars: The Force Awakens\" Trailer...      1\n3  This Vine Of New York On \"Celebrity Big Brothe...      1\n4  A Couple Did A Stunning Photo Shoot With Their...      1\n"
     ]
    }
   ],
   "source": [
    "clkbt = pd.read_fwf('dataset\\clickbait_data\\clickbait_data.txt', header=None)\n",
    "clkbt_df = pd.DataFrame({\n",
    "    'text' : clkbt[0],\n",
    "    'label': [int(1)]*len(clkbt[0])\n",
    "})\n",
    "print(clkbt_df.head())"
   ]
  },
  {
   "cell_type": "code",
   "execution_count": 30,
   "metadata": {},
   "outputs": [
    {
     "output_type": "stream",
     "name": "stdout",
     "text": [
      "                                                text  label\n0  Bill Changing Credit Card Rules Is Sent to Oba...      0\n1  In Hollywood, the Easy-Money Generation Toughe...      0\n2  1700 runners still unaccounted for in UK's Lak...      0\n3  Yankees Pitchers Trade Fielding Drills for Put...      0\n4  Large earthquake rattles Indonesia; Seventh in...      0\n"
     ]
    }
   ],
   "source": [
    "with open('dataset/non_clickbait_data/non_clickbait_data.txt', encoding='utf-8') as f:\n",
    "    nclkbt = []\n",
    "    for line in f:\n",
    "        if line.rstrip() == '':\n",
    "            continue\n",
    "        else:\n",
    "            nclkbt.append(line.rstrip())\n",
    "nclkbt_df = pd.DataFrame({\n",
    "    'text' : nclkbt,\n",
    "    'label': [int(0)]*len(nclkbt)\n",
    "})\n",
    "print(nclkbt_df.head())"
   ]
  },
  {
   "cell_type": "code",
   "execution_count": 32,
   "metadata": {},
   "outputs": [
    {
     "output_type": "stream",
     "name": "stdout",
     "text": [
      "(15999, 2)\n(16001, 2)\n(32000, 2)\n"
     ]
    }
   ],
   "source": [
    "df = pd.concat([clkbt_df, nclkbt_df], axis=0)\n",
    "\n",
    "print(clkbt_df.shape)\n",
    "print(nclkbt_df.shape)\n",
    "print(df.shape)"
   ]
  },
  {
   "cell_type": "code",
   "execution_count": 33,
   "metadata": {},
   "outputs": [
    {
     "output_type": "execute_result",
     "data": {
      "text/plain": [
       "    id  label alpha                                               text\n",
       "0    0      1     a                                 Should I Get Bings\n",
       "1    1      1     a      Which TV Female Friend Group Do You Belong In\n",
       "2    2      1     a  The New \"Star Wars: The Force Awakens\" Trailer...\n",
       "3    3      1     a  This Vine Of New York On \"Celebrity Big Brothe...\n",
       "4    4      1     a  A Couple Did A Stunning Photo Shoot With Their...\n",
       "5    5      1     a  How To Flirt With Queer Girls Without Making A...\n",
       "6    6      1     a  32 Cute Things To Distract From Your Awkward T...\n",
       "7    7      1     a             If Disney Princesses Were From Florida\n",
       "8    8      1     a  What's A Quote Or Lyric That Best Describes Yo...\n",
       "9    9      1     a  Natalie Dormer And Sam Claflin Play A Game To ...\n",
       "10  10      1     a      16 Perfect Responses To The Indian Patriarchy\n",
       "11  11      1     a  21 Times I Died During The \"Captain America: C...\n",
       "12  12      1     a  17 Times Kourtney Kardashian Shut Down Her Own...\n",
       "13  13      1     a                          Does Coffee Make You Poop\n",
       "14  14      1     a      Who Is Your Celebrity Ex Based On Your Zodiac\n",
       "15  15      1     a  17 Hairdresser Struggles Every Black Girl Know...\n",
       "16  16      1     a            Are You More Walter White Or Heisenberg\n",
       "17  17      1     a  The Most Canadian Groom Ever Left His Wedding ...\n",
       "18  18      1     a     Here's One Really Weird Thing About Butterfree\n",
       "19  19      1     a             15 Resolutions To Make Good On In 2016\n",
       "20  20      1     a              What New Thing Should You Try In 2016\n",
       "21  21      1     a  Zoo Animals Around The World Are Opening Their...\n",
       "22  22      1     a              Tell Us About Yourself(ie): Erica Ash\n",
       "23  23      1     a                                    9 Times I Cried\n",
       "24  24      1     a       21 Vegetarian Dump Dinners For The Crock Pot\n",
       "25  25      1     a       This Goat Has Been Bullying His Tiger Friend\n",
       "26  26      1     a  8 Fall Shows To Be Excited About, 10 To Give A...\n",
       "27  27      1     a  Another Round, Episode 25: Stop Telling Women ...\n",
       "28  28      1     a              16 Signs You Are Too Stubborn To Live\n",
       "29  29      1     a  This Country Singer Makes Music On His Game Bo...\n",
       "30  30      1     a                When You Realize Every Guy Is Taken\n",
       "31  31      1     a  An Awesome Look At The Behind-The-Scenes Conce...\n",
       "32  32      1     a  Sarah Jessica Parker Talks Being A Carrie, \"Ho...\n",
       "33  33      1     a                      Which Type Of Swearer Are You\n",
       "34  34      1     a  A Dad Recorded All The Adorable Questions His ...\n",
       "35  35      1     a  29 Impossibly Stylish Cat Gifts, In Order Of A...\n",
       "36  36      1     a  13 Of The Most Glorious Made-Up Words From Lit...\n",
       "37  37      1     a  We Pranked A Bunch Of People By Dropping An iP...\n",
       "38  38      1     a                     23 Flaws Every Sneakerhead Has\n",
       "39  39      1     a  We Know Your Zodiac Sign Based On Which Cat Yo...\n",
       "40  40      1     a  Grimes On Her New Album And The Heartbreaking ...\n",
       "41  41      1     a  This Instagram Account Is Recreating 2015's Gr...\n",
       "42  42      1     a                            The 22 Best Adele Memes\n",
       "43  43      1     a       17 Pictures Hot People Will Never Understand\n",
       "44  44      1     a  How Badly Are You Taking The One Direction Hiatus\n",
       "45  45      1     a  We Know What You Want For Christmas Based On Y...\n",
       "46  46      1     a                      Guys Try Pinterest Leaf Hacks\n",
       "47  47      1     a  22 Tips For Hiking With Kids That Every Parent...\n",
       "48  48      1     a            The Scariest Halloween Candy Taste Test\n",
       "49  49      1     a  This Dog Begging For His Human's Forgiveness I..."
      ],
      "text/html": "<div>\n<style scoped>\n    .dataframe tbody tr th:only-of-type {\n        vertical-align: middle;\n    }\n\n    .dataframe tbody tr th {\n        vertical-align: top;\n    }\n\n    .dataframe thead th {\n        text-align: right;\n    }\n</style>\n<table border=\"1\" class=\"dataframe\">\n  <thead>\n    <tr style=\"text-align: right;\">\n      <th></th>\n      <th>id</th>\n      <th>label</th>\n      <th>alpha</th>\n      <th>text</th>\n    </tr>\n  </thead>\n  <tbody>\n    <tr>\n      <th>0</th>\n      <td>0</td>\n      <td>1</td>\n      <td>a</td>\n      <td>Should I Get Bings</td>\n    </tr>\n    <tr>\n      <th>1</th>\n      <td>1</td>\n      <td>1</td>\n      <td>a</td>\n      <td>Which TV Female Friend Group Do You Belong In</td>\n    </tr>\n    <tr>\n      <th>2</th>\n      <td>2</td>\n      <td>1</td>\n      <td>a</td>\n      <td>The New \"Star Wars: The Force Awakens\" Trailer...</td>\n    </tr>\n    <tr>\n      <th>3</th>\n      <td>3</td>\n      <td>1</td>\n      <td>a</td>\n      <td>This Vine Of New York On \"Celebrity Big Brothe...</td>\n    </tr>\n    <tr>\n      <th>4</th>\n      <td>4</td>\n      <td>1</td>\n      <td>a</td>\n      <td>A Couple Did A Stunning Photo Shoot With Their...</td>\n    </tr>\n    <tr>\n      <th>5</th>\n      <td>5</td>\n      <td>1</td>\n      <td>a</td>\n      <td>How To Flirt With Queer Girls Without Making A...</td>\n    </tr>\n    <tr>\n      <th>6</th>\n      <td>6</td>\n      <td>1</td>\n      <td>a</td>\n      <td>32 Cute Things To Distract From Your Awkward T...</td>\n    </tr>\n    <tr>\n      <th>7</th>\n      <td>7</td>\n      <td>1</td>\n      <td>a</td>\n      <td>If Disney Princesses Were From Florida</td>\n    </tr>\n    <tr>\n      <th>8</th>\n      <td>8</td>\n      <td>1</td>\n      <td>a</td>\n      <td>What's A Quote Or Lyric That Best Describes Yo...</td>\n    </tr>\n    <tr>\n      <th>9</th>\n      <td>9</td>\n      <td>1</td>\n      <td>a</td>\n      <td>Natalie Dormer And Sam Claflin Play A Game To ...</td>\n    </tr>\n    <tr>\n      <th>10</th>\n      <td>10</td>\n      <td>1</td>\n      <td>a</td>\n      <td>16 Perfect Responses To The Indian Patriarchy</td>\n    </tr>\n    <tr>\n      <th>11</th>\n      <td>11</td>\n      <td>1</td>\n      <td>a</td>\n      <td>21 Times I Died During The \"Captain America: C...</td>\n    </tr>\n    <tr>\n      <th>12</th>\n      <td>12</td>\n      <td>1</td>\n      <td>a</td>\n      <td>17 Times Kourtney Kardashian Shut Down Her Own...</td>\n    </tr>\n    <tr>\n      <th>13</th>\n      <td>13</td>\n      <td>1</td>\n      <td>a</td>\n      <td>Does Coffee Make You Poop</td>\n    </tr>\n    <tr>\n      <th>14</th>\n      <td>14</td>\n      <td>1</td>\n      <td>a</td>\n      <td>Who Is Your Celebrity Ex Based On Your Zodiac</td>\n    </tr>\n    <tr>\n      <th>15</th>\n      <td>15</td>\n      <td>1</td>\n      <td>a</td>\n      <td>17 Hairdresser Struggles Every Black Girl Know...</td>\n    </tr>\n    <tr>\n      <th>16</th>\n      <td>16</td>\n      <td>1</td>\n      <td>a</td>\n      <td>Are You More Walter White Or Heisenberg</td>\n    </tr>\n    <tr>\n      <th>17</th>\n      <td>17</td>\n      <td>1</td>\n      <td>a</td>\n      <td>The Most Canadian Groom Ever Left His Wedding ...</td>\n    </tr>\n    <tr>\n      <th>18</th>\n      <td>18</td>\n      <td>1</td>\n      <td>a</td>\n      <td>Here's One Really Weird Thing About Butterfree</td>\n    </tr>\n    <tr>\n      <th>19</th>\n      <td>19</td>\n      <td>1</td>\n      <td>a</td>\n      <td>15 Resolutions To Make Good On In 2016</td>\n    </tr>\n    <tr>\n      <th>20</th>\n      <td>20</td>\n      <td>1</td>\n      <td>a</td>\n      <td>What New Thing Should You Try In 2016</td>\n    </tr>\n    <tr>\n      <th>21</th>\n      <td>21</td>\n      <td>1</td>\n      <td>a</td>\n      <td>Zoo Animals Around The World Are Opening Their...</td>\n    </tr>\n    <tr>\n      <th>22</th>\n      <td>22</td>\n      <td>1</td>\n      <td>a</td>\n      <td>Tell Us About Yourself(ie): Erica Ash</td>\n    </tr>\n    <tr>\n      <th>23</th>\n      <td>23</td>\n      <td>1</td>\n      <td>a</td>\n      <td>9 Times I Cried</td>\n    </tr>\n    <tr>\n      <th>24</th>\n      <td>24</td>\n      <td>1</td>\n      <td>a</td>\n      <td>21 Vegetarian Dump Dinners For The Crock Pot</td>\n    </tr>\n    <tr>\n      <th>25</th>\n      <td>25</td>\n      <td>1</td>\n      <td>a</td>\n      <td>This Goat Has Been Bullying His Tiger Friend</td>\n    </tr>\n    <tr>\n      <th>26</th>\n      <td>26</td>\n      <td>1</td>\n      <td>a</td>\n      <td>8 Fall Shows To Be Excited About, 10 To Give A...</td>\n    </tr>\n    <tr>\n      <th>27</th>\n      <td>27</td>\n      <td>1</td>\n      <td>a</td>\n      <td>Another Round, Episode 25: Stop Telling Women ...</td>\n    </tr>\n    <tr>\n      <th>28</th>\n      <td>28</td>\n      <td>1</td>\n      <td>a</td>\n      <td>16 Signs You Are Too Stubborn To Live</td>\n    </tr>\n    <tr>\n      <th>29</th>\n      <td>29</td>\n      <td>1</td>\n      <td>a</td>\n      <td>This Country Singer Makes Music On His Game Bo...</td>\n    </tr>\n    <tr>\n      <th>30</th>\n      <td>30</td>\n      <td>1</td>\n      <td>a</td>\n      <td>When You Realize Every Guy Is Taken</td>\n    </tr>\n    <tr>\n      <th>31</th>\n      <td>31</td>\n      <td>1</td>\n      <td>a</td>\n      <td>An Awesome Look At The Behind-The-Scenes Conce...</td>\n    </tr>\n    <tr>\n      <th>32</th>\n      <td>32</td>\n      <td>1</td>\n      <td>a</td>\n      <td>Sarah Jessica Parker Talks Being A Carrie, \"Ho...</td>\n    </tr>\n    <tr>\n      <th>33</th>\n      <td>33</td>\n      <td>1</td>\n      <td>a</td>\n      <td>Which Type Of Swearer Are You</td>\n    </tr>\n    <tr>\n      <th>34</th>\n      <td>34</td>\n      <td>1</td>\n      <td>a</td>\n      <td>A Dad Recorded All The Adorable Questions His ...</td>\n    </tr>\n    <tr>\n      <th>35</th>\n      <td>35</td>\n      <td>1</td>\n      <td>a</td>\n      <td>29 Impossibly Stylish Cat Gifts, In Order Of A...</td>\n    </tr>\n    <tr>\n      <th>36</th>\n      <td>36</td>\n      <td>1</td>\n      <td>a</td>\n      <td>13 Of The Most Glorious Made-Up Words From Lit...</td>\n    </tr>\n    <tr>\n      <th>37</th>\n      <td>37</td>\n      <td>1</td>\n      <td>a</td>\n      <td>We Pranked A Bunch Of People By Dropping An iP...</td>\n    </tr>\n    <tr>\n      <th>38</th>\n      <td>38</td>\n      <td>1</td>\n      <td>a</td>\n      <td>23 Flaws Every Sneakerhead Has</td>\n    </tr>\n    <tr>\n      <th>39</th>\n      <td>39</td>\n      <td>1</td>\n      <td>a</td>\n      <td>We Know Your Zodiac Sign Based On Which Cat Yo...</td>\n    </tr>\n    <tr>\n      <th>40</th>\n      <td>40</td>\n      <td>1</td>\n      <td>a</td>\n      <td>Grimes On Her New Album And The Heartbreaking ...</td>\n    </tr>\n    <tr>\n      <th>41</th>\n      <td>41</td>\n      <td>1</td>\n      <td>a</td>\n      <td>This Instagram Account Is Recreating 2015's Gr...</td>\n    </tr>\n    <tr>\n      <th>42</th>\n      <td>42</td>\n      <td>1</td>\n      <td>a</td>\n      <td>The 22 Best Adele Memes</td>\n    </tr>\n    <tr>\n      <th>43</th>\n      <td>43</td>\n      <td>1</td>\n      <td>a</td>\n      <td>17 Pictures Hot People Will Never Understand</td>\n    </tr>\n    <tr>\n      <th>44</th>\n      <td>44</td>\n      <td>1</td>\n      <td>a</td>\n      <td>How Badly Are You Taking The One Direction Hiatus</td>\n    </tr>\n    <tr>\n      <th>45</th>\n      <td>45</td>\n      <td>1</td>\n      <td>a</td>\n      <td>We Know What You Want For Christmas Based On Y...</td>\n    </tr>\n    <tr>\n      <th>46</th>\n      <td>46</td>\n      <td>1</td>\n      <td>a</td>\n      <td>Guys Try Pinterest Leaf Hacks</td>\n    </tr>\n    <tr>\n      <th>47</th>\n      <td>47</td>\n      <td>1</td>\n      <td>a</td>\n      <td>22 Tips For Hiking With Kids That Every Parent...</td>\n    </tr>\n    <tr>\n      <th>48</th>\n      <td>48</td>\n      <td>1</td>\n      <td>a</td>\n      <td>The Scariest Halloween Candy Taste Test</td>\n    </tr>\n    <tr>\n      <th>49</th>\n      <td>49</td>\n      <td>1</td>\n      <td>a</td>\n      <td>This Dog Begging For His Human's Forgiveness I...</td>\n    </tr>\n  </tbody>\n</table>\n</div>"
     },
     "metadata": {},
     "execution_count": 33
    }
   ],
   "source": [
    "df_albert = pd.DataFrame({\n",
    " \"id\":range(len(df)),\n",
    " \"label\":df['label'],\n",
    " \"alpha\":['a']*len(df),\n",
    " \"text\": df['text']\n",
    "})\n",
    "\n",
    "df_albert.head(50)"
   ]
  },
  {
   "cell_type": "code",
   "execution_count": 34,
   "metadata": {},
   "outputs": [],
   "source": [
    "from sklearn.model_selection import train_test_split\n",
    "\n",
    "df_albert_train, df_albert_test = train_test_split(df_albert, test_size=0.2)\n",
    "df_albert_train, df_albert_dev = train_test_split(df_albert_train, test_size=0.01)"
   ]
  },
  {
   "cell_type": "code",
   "execution_count": 38,
   "metadata": {},
   "outputs": [
    {
     "output_type": "stream",
     "name": "stdout",
     "text": [
      "          id  label alpha                                               text\n412    16411      0     a                  Bravitude climbing fast on Google\n6875   22874      0     a  Christian Lacroix Files for Protection From Cr...\n8038    8038      1     a  Why \"Bridge Of Spies\" Is Going To Be Your Dad'...\n1774    1774      1     a  Stop Everything You're Doing Because Snoop Dog...\n7890    7890      1     a                            Which Vegetable Are You\n2212    2212      1     a  24 Things You'll Find In Every Hipster Restaurant\n5605   21604      0     a  UN halts aid to Gaza after tons of food aid is...\n718      718      1     a                     How Full Of Crap Is Your House\n10376  26375      0     a  McLaren Mercedes drivers snatch the front row ...\n15041  31040      0     a     Airplane crashes at Schiphol Airport; 9 killed\n3516    3516      1     a  This Cream Cheese Banana Bread Will Blow Your ...\n7498    7498      1     a  A Ballet Troupe Performed An Impromptu Routine...\n5518    5518      1     a  21 Sibling Horror Stories That'll Make You Cringe\n14603  14603      1     a  There's A Hilarious Reason Everyone's Sharing ...\n8037   24036      0     a  Steelmaker Corus to cut 2000 jobs in the UK an...\n9340   25339      0     a           Battle of the Bulge reenacted in Belgium\n11681  11681      1     a  Here Is A Really Delicious Way To Enjoy Acorn ...\n14046  14046      1     a  This Food Test Will Determine If You're Really...\n9141    9141      1     a         What Your Family On Facebook Needs To Hear\n3068   19067      0     a                   Adventurer Steve Fossett missing\n"
     ]
    }
   ],
   "source": [
    "print(df_albert_train.head(20))"
   ]
  },
  {
   "cell_type": "code",
   "execution_count": 40,
   "metadata": {},
   "outputs": [
    {
     "output_type": "stream",
     "name": "stdout",
     "text": [
      "Index(['id', 'text'], dtype='object')\nIndex(['id', 'label'], dtype='object')\n"
     ]
    }
   ],
   "source": [
    "test_labels = df_albert_test[[\"id\", 'label']]\n",
    "df_albert_test.drop(['label', 'alpha'],axis=1 ,inplace=True)\n",
    "print(df_albert_test.columns)\n",
    "print(test_labels.columns)"
   ]
  },
  {
   "cell_type": "code",
   "execution_count": 41,
   "metadata": {},
   "outputs": [],
   "source": [
    "df_albert_train.to_csv('data/CoLA/train.tsv', sep='\\t', index=False, header=False)\n",
    "df_albert_test.to_csv('data/CoLA/test.tsv', sep='\\t', index=False, header=True)\n",
    "df_albert_dev.to_csv('data/CoLA/dev.tsv', sep='\\t', index=False, header=False)\n",
    "test_labels.to_csv('data/CoLA/test_labels.tsv', sep='\\t', index=False, header=True)"
   ]
  },
  {
   "cell_type": "code",
   "execution_count": null,
   "metadata": {},
   "outputs": [],
   "source": []
  }
 ]
}